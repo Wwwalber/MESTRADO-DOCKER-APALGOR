{
 "cells": [
  {
   "cell_type": "code",
   "execution_count": null,
   "metadata": {},
   "outputs": [
    {
     "ename": "",
     "evalue": "",
     "output_type": "error",
     "traceback": [
      "\u001b[1;31mA execução de células com 'Python 3.12.3' requer o pacote ipykernel.\n",
      "\u001b[1;31mExecute o seguinte comando para instalar \"ipykernel\" no ambiente do Python. \n",
      "\u001b[1;31mComando: \"/bin/python3 -m pip install ipykernel -U --user --force-reinstall\""
     ]
    }
   ],
   "source": [
    "import numpy as np\n",
    "import matplotlib.pyplot as plt\n",
    "\n",
    "# Definir o intervalo de valores para n\n",
    "n = np.linspace(1, 100, 100)  # Cria 100 pontos entre 1 e 100\n",
    "\n",
    "# Definir as funções\n",
    "f = 0.5 * n**2 + 3 * n\n",
    "g = n**2\n",
    "\n",
    "# Criar o gráfico\n",
    "plt.figure(figsize=(10, 6))\n",
    "\n",
    "# Plotar as funções\n",
    "plt.plot(n, f, 'r-', label='f(n) = 0.5n^2 + 3n')\n",
    "plt.plot(n, g, 'b-', label='g(n) = n^2')\n",
    "\n",
    "# Adicionar elementos ao gráfico\n",
    "plt.title('Comparação das Funções f(n) e g(n)')\n",
    "plt.xlabel('n')\n",
    "plt.ylabel('Valores das Funções')\n",
    "plt.grid(True)\n",
    "plt.legend()\n",
    "\n",
    "# Mostrar o gráfico\n",
    "plt.show()\n"
   ]
  }
 ],
 "metadata": {
  "kernelspec": {
   "display_name": "Python 3",
   "language": "python",
   "name": "python3"
  },
  "language_info": {
   "name": "python",
   "version": "3.12.3"
  }
 },
 "nbformat": 4,
 "nbformat_minor": 2
}

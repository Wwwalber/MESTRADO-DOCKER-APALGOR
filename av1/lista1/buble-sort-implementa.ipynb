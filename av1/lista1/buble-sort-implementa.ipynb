{
 "cells": [
  {
   "cell_type": "code",
   "execution_count": 7,
   "metadata": {},
   "outputs": [
    {
     "name": "stdout",
     "output_type": "stream",
     "text": [
      "{3}\n"
     ]
    }
   ],
   "source": [
    "def maximo(A, n):\n",
    "    max = A[2]\n",
    "    print({max})\n",
    "\n",
    "lista = [1, 2, 3, 4, 5]\n",
    "\n",
    "maximo(lista, 5)"
   ]
  },
  {
   "cell_type": "code",
   "execution_count": 12,
   "metadata": {},
   "outputs": [
    {
     "name": "stdout",
     "output_type": "stream",
     "text": [
      "30\n"
     ]
    }
   ],
   "source": [
    "import time\n",
    "\n",
    "def maximo(lista):\n",
    "    max = lista[0]\n",
    "    for i in range(1,len(lista)):\n",
    "        if lista[i] > max:\n",
    "            max = lista[i]\n",
    "    return max\n",
    "\n",
    "start_time = time.perf_counter()\n",
    "\n",
    "meu_array = list(range(1, 31))\n",
    "\n",
    "end_time = time.perf_counter()\n",
    "\n",
    "execution_time = end_time - start_time\n",
    "\n",
    "print(maximo(meu_array))"
   ]
  }
 ],
 "metadata": {
  "kernelspec": {
   "display_name": "Python 3 (ipykernel)",
   "language": "python",
   "name": "python3"
  },
  "language_info": {
   "codemirror_mode": {
    "name": "ipython",
    "version": 3
   },
   "file_extension": ".py",
   "mimetype": "text/x-python",
   "name": "python",
   "nbconvert_exporter": "python",
   "pygments_lexer": "ipython3",
   "version": "3.13.0"
  }
 },
 "nbformat": 4,
 "nbformat_minor": 2
}

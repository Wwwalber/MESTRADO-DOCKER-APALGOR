{
 "cells": [
  {
   "cell_type": "code",
   "execution_count": 1,
   "metadata": {},
   "outputs": [
    {
     "name": "stdout",
     "output_type": "stream",
     "text": [
      "{3}\n"
     ]
    }
   ],
   "source": [
    "def maximo(A, n):\n",
    "    max = A[2]\n",
    "    print({max})\n",
    "\n",
    "lista = [1, 2, 3, 4, 5]\n",
    "\n",
    "maximo(lista, 5)"
   ]
  },
  {
   "cell_type": "code",
   "execution_count": 5,
   "metadata": {},
   "outputs": [
    {
     "name": "stdout",
     "output_type": "stream",
     "text": [
      "3000\n",
      "0.00013187799959268887\n"
     ]
    }
   ],
   "source": [
    "import time\n",
    "\n",
    "def maximo(lista):\n",
    "    max = lista[0]\n",
    "    for i in range(1,len(lista)):\n",
    "        if lista[i] > max:\n",
    "            max = lista[i]\n",
    "    return max\n",
    "\n",
    "start_time = time.perf_counter()\n",
    "\n",
    "meu_array = list(range(1, 3001))\n",
    "\n",
    "end_time = time.perf_counter()\n",
    "\n",
    "execution_time = end_time - start_time\n",
    "\n",
    "print(maximo(meu_array))\n",
    "print(execution_time)"
   ]
  },
  {
   "cell_type": "code",
   "execution_count": 3,
   "metadata": {},
   "outputs": [
    {
     "ename": "NameError",
     "evalue": "name 'Copiar' is not defined",
     "output_type": "error",
     "traceback": [
      "\u001b[0;31m---------------------------------------------------------------------------\u001b[0m",
      "\u001b[0;31mNameError\u001b[0m                                 Traceback (most recent call last)",
      "Cell \u001b[0;32mIn[3], line 1\u001b[0m\n\u001b[0;32m----> 1\u001b[0m \u001b[43mCopiar\u001b[49m\n\u001b[1;32m      2\u001b[0m \u001b[38;5;28;01mdef\u001b[39;00m \u001b[38;5;21mbubble_sort\u001b[39m(arr):\n\u001b[1;32m      3\u001b[0m     n \u001b[38;5;241m=\u001b[39m \u001b[38;5;28mlen\u001b[39m(arr)\n",
      "\u001b[0;31mNameError\u001b[0m: name 'Copiar' is not defined"
     ]
    }
   ],
   "source": [
    "Copiar\n",
    "def bubble_sort(arr):\n",
    "    n = len(arr)\n",
    "    for i in range(n):\n",
    "        # Últimos i elementos já estão ordenados\n",
    "        for j in range(0, n - i - 1):\n",
    "            # Trocar se o elemento encontrado for maior que o próximo\n",
    "            if arr[j] > arr[j + 1]:\n",
    "                arr[j], arr[j + 1] = arr[j + 1], arr[j]\n",
    "\n",
    "\n",
    " "
   ]
  }
 ],
 "metadata": {
  "kernelspec": {
   "display_name": "venv-apa02",
   "language": "python",
   "name": "python3"
  },
  "language_info": {
   "codemirror_mode": {
    "name": "ipython",
    "version": 3
   },
   "file_extension": ".py",
   "mimetype": "text/x-python",
   "name": "python",
   "nbconvert_exporter": "python",
   "pygments_lexer": "ipython3",
   "version": "3.12.3"
  }
 },
 "nbformat": 4,
 "nbformat_minor": 2
}

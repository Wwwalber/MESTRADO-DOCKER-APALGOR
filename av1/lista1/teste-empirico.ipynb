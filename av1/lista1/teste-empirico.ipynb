{
 "cells": [
  {
   "cell_type": "code",
   "execution_count": 5,
   "metadata": {},
   "outputs": [
    {
     "ename": "ModuleNotFoundError",
     "evalue": "No module named 'numpy'",
     "output_type": "error",
     "traceback": [
      "\u001b[0;31m---------------------------------------------------------------------------\u001b[0m",
      "\u001b[0;31mModuleNotFoundError\u001b[0m                       Traceback (most recent call last)",
      "Cell \u001b[0;32mIn[5], line 1\u001b[0m\n\u001b[0;32m----> 1\u001b[0m \u001b[38;5;28;01mimport\u001b[39;00m \u001b[38;5;21;01mnumpy\u001b[39;00m \u001b[38;5;28;01mas\u001b[39;00m \u001b[38;5;21;01mnp\u001b[39;00m\n\u001b[1;32m      2\u001b[0m \u001b[38;5;28;01mimport\u001b[39;00m \u001b[38;5;21;01mmatplotlib\u001b[39;00m\u001b[38;5;21;01m.\u001b[39;00m\u001b[38;5;21;01mpyplot\u001b[39;00m \u001b[38;5;28;01mas\u001b[39;00m \u001b[38;5;21;01mplt\u001b[39;00m\n\u001b[1;32m      3\u001b[0m \u001b[38;5;28;01mimport\u001b[39;00m \u001b[38;5;21;01mrandom\u001b[39;00m\n",
      "\u001b[0;31mModuleNotFoundError\u001b[0m: No module named 'numpy'"
     ]
    }
   ],
   "source": [
    "import numpy as np\n",
    "import matplotlib.pyplot as plt\n",
    "import random\n",
    "\n",
    "# Definir o intervalo de tamanhos para n\n",
    "n = np.arange(1, 501, 10)  # Gera tamanhos de entrada: 1, 11, 21, ..., 491\n",
    "\n",
    "# Definir as funções teóricas\n",
    "#f = 0.5 * n**2 + 3 * n\n",
    "#g = n**2\n",
    "\n",
    "# Função de ordenação com contagem de atribuições\n",
    "def insertion_sort(arr):\n",
    "    contador_atribuicoes = 0  # Contabiliza a atribuição da chave\n",
    "\n",
    "    for i in range(1, len(arr)): \n",
    "        chave = arr[i]  # O elemento a ser inserido na parte ordenada\n",
    "        contador_atribuicoes += 1  # Contabiliza a atribuição da chave\n",
    "        j = i - 1  # O último elemento da parte ordenada\n",
    "        while j >= 0 and arr[j] > chave:\n",
    "            arr[j + 1] = arr[j]  # Move o elemento para a direita\n",
    "            contador_atribuicoes += 1  # Contabiliza a atribuição\n",
    "            j -= 1  # Decrementa o índice j corretamente\n",
    "        # Insere a chave na posição correta\n",
    "        arr[j + 1] = chave\n",
    "        contador_atribuicoes += 1  # Contabiliza a atribuição da chave\n",
    "    return contador_atribuicoes\n",
    "\n",
    "# Teste empírico: calcular número de atribuições para cada tamanho n\n",
    "resultados_empiricos = []  # Lista para armazenar resultados empíricos\n",
    "for tamanho in n:\n",
    "    # Gera uma lista aleatória de tamanho `tamanho`\n",
    "    lista_numeros = [random.randint(1, 1000) for _ in range(tamanho)]\n",
    "    # Executa o insertion sort e registra o número de atribuições\n",
    "    num_atribuicoes = insertion_sort(lista_numeros)\n",
    "    resultados_empiricos.append(num_atribuicoes)\n",
    "\n",
    "# Plotar os resultados\n",
    "plt.figure(figsize=(12, 8))\n",
    "\n",
    "# Gráfico dos resultados empíricos\n",
    "plt.plot(n, resultados_empiricos, 'o', label='Testes Empíricos (Insertion Sort)', color='orange')\n",
    "\n",
    "# Gráficos das funções teóricas\n",
    "#plt.plot(n, f, 'r-', label='f(n) = 0.5n^2 + 3n')\n",
    "#plt.plot(n, g, 'b-', label='g(n) = n^2')\n",
    "\n",
    "# Adicionar elementos ao gráfico\n",
    "plt.title('Comparação dos Testes Empíricos e Funções Teóricas')\n",
    "plt.xlabel('Tamanho do Array (n)')\n",
    "plt.ylabel('Número de Atribuições')\n",
    "plt.grid(True)\n",
    "plt.legend()\n",
    "\n",
    "# Mostrar o gráfico\n",
    "plt.show()\n"
   ]
  }
 ],
 "metadata": {
  "kernelspec": {
   "display_name": "venv-apa01",
   "language": "python",
   "name": "python3"
  },
  "language_info": {
   "codemirror_mode": {
    "name": "ipython",
    "version": 3
   },
   "file_extension": ".py",
   "mimetype": "text/x-python",
   "name": "python",
   "nbconvert_exporter": "python",
   "pygments_lexer": "ipython3",
   "version": "3.12.3"
  }
 },
 "nbformat": 4,
 "nbformat_minor": 2
}

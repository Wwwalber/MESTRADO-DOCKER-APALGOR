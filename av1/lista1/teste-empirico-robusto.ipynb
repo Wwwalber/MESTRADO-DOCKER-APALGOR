{
 "cells": [
  {
   "cell_type": "code",
   "execution_count": 4,
   "metadata": {},
   "outputs": [
    {
     "name": "stdout",
     "output_type": "stream",
     "text": [
      "Iniciando testes empíricos...\n"
     ]
    },
    {
     "ename": "NameError",
     "evalue": "name 'gerar_casos_teste' is not defined",
     "output_type": "error",
     "traceback": [
      "\u001b[0;31m---------------------------------------------------------------------------\u001b[0m",
      "\u001b[0;31mNameError\u001b[0m                                 Traceback (most recent call last)",
      "Cell \u001b[0;32mIn[4], line 70\u001b[0m\n\u001b[1;32m     66\u001b[0m     \u001b[38;5;28mprint\u001b[39m(\u001b[38;5;124mf\u001b[39m\u001b[38;5;124m\"\u001b[39m\u001b[38;5;124mMaior tempo de execução: \u001b[39m\u001b[38;5;132;01m{\u001b[39;00m\u001b[38;5;28mmax\u001b[39m(\u001b[38;5;28mmax\u001b[39m(resultados[\u001b[38;5;124m'\u001b[39m\u001b[38;5;124mtempos\u001b[39m\u001b[38;5;124m'\u001b[39m]))\u001b[38;5;132;01m}\u001b[39;00m\u001b[38;5;124m segundos\u001b[39m\u001b[38;5;124m\"\u001b[39m)\n\u001b[1;32m     69\u001b[0m \u001b[38;5;28;01mif\u001b[39;00m \u001b[38;5;18m__name__\u001b[39m \u001b[38;5;241m==\u001b[39m \u001b[38;5;124m\"\u001b[39m\u001b[38;5;124m__main__\u001b[39m\u001b[38;5;124m\"\u001b[39m:\n\u001b[0;32m---> 70\u001b[0m     \u001b[43mmain\u001b[49m\u001b[43m(\u001b[49m\u001b[43m)\u001b[49m\n",
      "Cell \u001b[0;32mIn[4], line 59\u001b[0m, in \u001b[0;36mmain\u001b[0;34m()\u001b[0m\n\u001b[1;32m     56\u001b[0m num_testes \u001b[38;5;241m=\u001b[39m \u001b[38;5;241m5\u001b[39m\n\u001b[1;32m     58\u001b[0m \u001b[38;5;28mprint\u001b[39m(\u001b[38;5;124m\"\u001b[39m\u001b[38;5;124mIniciando testes empíricos...\u001b[39m\u001b[38;5;124m\"\u001b[39m)\n\u001b[0;32m---> 59\u001b[0m resultados \u001b[38;5;241m=\u001b[39m \u001b[43mexecutar_testes_empiricos\u001b[49m\u001b[43m(\u001b[49m\u001b[43mtamanhos\u001b[49m\u001b[43m,\u001b[49m\u001b[43m \u001b[49m\u001b[43mnum_testes\u001b[49m\u001b[43m)\u001b[49m\n\u001b[1;32m     61\u001b[0m \u001b[38;5;28mprint\u001b[39m(\u001b[38;5;124m\"\u001b[39m\u001b[38;5;124mPlotando resultados...\u001b[39m\u001b[38;5;124m\"\u001b[39m)\n\u001b[1;32m     62\u001b[0m plotar_resultados(tamanhos, resultados)\n",
      "Cell \u001b[0;32mIn[4], line 18\u001b[0m, in \u001b[0;36mexecutar_testes_empiricos\u001b[0;34m(tamanhos, num_testes)\u001b[0m\n\u001b[1;32m     12\u001b[0m resultados \u001b[38;5;241m=\u001b[39m {\u001b[38;5;124m'\u001b[39m\u001b[38;5;124m'\u001b[39m\n\u001b[1;32m     13\u001b[0m     \u001b[38;5;124m'\u001b[39m\u001b[38;5;124matribuicoes\u001b[39m\u001b[38;5;124m'\u001b[39m: [],\n\u001b[1;32m     14\u001b[0m     \u001b[38;5;124m'\u001b[39m\u001b[38;5;124mtempos\u001b[39m\u001b[38;5;124m'\u001b[39m: []\n\u001b[1;32m     15\u001b[0m }\n\u001b[1;32m     17\u001b[0m \u001b[38;5;28;01mfor\u001b[39;00m n \u001b[38;5;129;01min\u001b[39;00m tamanhos:\n\u001b[0;32m---> 18\u001b[0m     casos_teste \u001b[38;5;241m=\u001b[39m \u001b[43mgerar_casos_teste\u001b[49m(n, num_testes)\n\u001b[1;32m     20\u001b[0m     atribuicoes_teste \u001b[38;5;241m=\u001b[39m []\n\u001b[1;32m     21\u001b[0m     tempos_teste \u001b[38;5;241m=\u001b[39m []\n",
      "\u001b[0;31mNameError\u001b[0m: name 'gerar_casos_teste' is not defined"
     ]
    }
   ],
   "source": [
    "import numpy as np\n",
    "import matplotlib.pyplot as plt\n",
    "import random\n",
    "import time\n",
    "from typing import List, Tuple\n",
    "import statistics\n",
    "\n",
    "def executar_testes_empiricos(tamanhos: np.ndarray, num_testes: int = 5) -> dict:\n",
    "    \"\"\"\n",
    "    Executa testes empíricos e retorna estatísticas\n",
    "    \"\"\"\n",
    "    resultados = {''\n",
    "        'atribuicoes': [],\n",
    "        'tempos': []\n",
    "    }\n",
    "    \n",
    "    for n in tamanhos:\n",
    "        casos_teste = gerar_casos_teste(n, num_testes)\n",
    "        \n",
    "        atribuicoes_teste = []\n",
    "        tempos_teste = []\n",
    "        \n",
    "        for caso in casos_teste:\n",
    "            atribuicoes, tempo = insertion_sort(caso.copy())\n",
    "            atribuicoes_teste.append(atribuicoes)\n",
    "            tempos_teste.append(tempo)\n",
    "        \n",
    "        resultados['atribuicoes'].append(atribuicoes_teste)\n",
    "        resultados['tempos'].append(tempos_teste)\n",
    "        \n",
    "    return resultados\n",
    "\n",
    "def plotar_resultados(tamanhos: np.ndarray, resultados: dict):\n",
    "    \"\"\"\n",
    "    Plota os resultados\n",
    "    \"\"\"\n",
    "    fig, (ax1, ax2) = plt.subplots(1, 2, figsize=(15, 6))\n",
    "    \n",
    "    ax1.plot(tamanhos, resultados['atribuicoes'], 'o-', label='Atribuições')\n",
    "    ax1.set_title('Número de Atribuições vs Tamanho do Array')\n",
    "    ax1.set_xlabel('Tamanho do Array (n)')\n",
    "    ax1.set_ylabel('Número de Atribuições')\n",
    "    ax1.grid(True)\n",
    "    \n",
    "    ax2.plot(tamanhos, resultados['tempos'], 'o-', color='red', label='Tempo')\n",
    "    ax2.set_title('Tempo de Execução vs Tamanho do Array')\n",
    "    ax2.set_xlabel('Tamanho do Array (n)')\n",
    "    ax2.set_ylabel('Tempo (segundos)')\n",
    "    ax2.grid(True)\n",
    "    \n",
    "    plt.tight_layout()\n",
    "    plt.show()\n",
    "\n",
    "def main():\n",
    "    tamanhos = np.arange(1, 501, 10)\n",
    "    num_testes = 5\n",
    "    \n",
    "    print(\"Iniciando testes empíricos...\")\n",
    "    resultados = executar_testes_empiricos(tamanhos, num_testes)\n",
    "    \n",
    "    print(\"Plotando resultados...\")\n",
    "    plotar_resultados(tamanhos, resultados)\n",
    "    \n",
    "    print(\"\\nEstatísticas finais:\")\n",
    "    print(f\"Maior número de atribuições: {max(max(resultados['atribuicoes']))}\")\n",
    "    print(f\"Maior tempo de execução: {max(max(resultados['tempos']))} segundos\")\n",
    "\n",
    "\n",
    "if __name__ == \"__main__\":\n",
    "    main()"
   ]
  }
 ],
 "metadata": {
  "kernelspec": {
   "display_name": ".venv-apa01",
   "language": "python",
   "name": "python3"
  },
  "language_info": {
   "codemirror_mode": {
    "name": "ipython",
    "version": 3
   },
   "file_extension": ".py",
   "mimetype": "text/x-python",
   "name": "python",
   "nbconvert_exporter": "python",
   "pygments_lexer": "ipython3",
   "version": "3.12.3"
  }
 },
 "nbformat": 4,
 "nbformat_minor": 2
}

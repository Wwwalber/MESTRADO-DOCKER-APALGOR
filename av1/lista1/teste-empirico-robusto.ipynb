{
 "cells": [
  {
   "cell_type": "code",
   "execution_count": 1,
   "metadata": {},
   "outputs": [
    {
     "ename": "ModuleNotFoundError",
     "evalue": "No module named 'numpy'",
     "output_type": "error",
     "traceback": [
      "\u001b[0;31m---------------------------------------------------------------------------\u001b[0m",
      "\u001b[0;31mModuleNotFoundError\u001b[0m                       Traceback (most recent call last)",
      "Cell \u001b[0;32mIn[1], line 1\u001b[0m\n\u001b[0;32m----> 1\u001b[0m \u001b[38;5;28;01mimport\u001b[39;00m \u001b[38;5;21;01mnumpy\u001b[39;00m \u001b[38;5;28;01mas\u001b[39;00m \u001b[38;5;21;01mnp\u001b[39;00m\n\u001b[1;32m      2\u001b[0m \u001b[38;5;28;01mimport\u001b[39;00m \u001b[38;5;21;01mmatplotlib\u001b[39;00m\u001b[38;5;21;01m.\u001b[39;00m\u001b[38;5;21;01mpyplot\u001b[39;00m \u001b[38;5;28;01mas\u001b[39;00m \u001b[38;5;21;01mplt\u001b[39;00m\n\u001b[1;32m      3\u001b[0m \u001b[38;5;28;01mimport\u001b[39;00m \u001b[38;5;21;01mrandom\u001b[39;00m\n",
      "\u001b[0;31mModuleNotFoundError\u001b[0m: No module named 'numpy'"
     ]
    }
   ],
   "source": [
    "import numpy as np\n",
    "import matplotlib.pyplot as plt\n",
    "import random\n",
    "import time\n",
    "from typing import List, Tuple\n",
    "import statistics\n",
    "\n",
    "def executar_testes_empiricos(tamanhos: np.ndarray, num_testes: int = 5) -> dict:\n",
    "    \"\"\"\n",
    "    Executa testes empíricos e retorna estatísticas\n",
    "    \"\"\"\n",
    "    resultados = {''\n",
    "        'atribuicoes': [],\n",
    "        'tempos': []\n",
    "    }\n",
    "    \n",
    "    for n in tamanhos:\n",
    "        casos_teste = gerar_casos_teste(n, num_testes)\n",
    "        \n",
    "        atribuicoes_teste = []\n",
    "        tempos_teste = []\n",
    "        \n",
    "        for caso in casos_teste:\n",
    "            atribuicoes, tempo = insertion_sort(caso.copy())\n",
    "            atribuicoes_teste.append(atribuicoes)\n",
    "            tempos_teste.append(tempo)\n",
    "        \n",
    "        resultados['atribuicoes'].append(atribuicoes_teste)\n",
    "        resultados['tempos'].append(tempos_teste)\n",
    "        \n",
    "    return resultados\n",
    "\n",
    "def plotar_resultados(tamanhos: np.ndarray, resultados: dict):\n",
    "    \"\"\"\n",
    "    Plota os resultados\n",
    "    \"\"\"\n",
    "    fig, (ax1, ax2) = plt.subplots(1, 2, figsize=(15, 6))\n",
    "    \n",
    "    ax1.plot(tamanhos, resultados['atribuicoes'], 'o-', label='Atribuições')\n",
    "    ax1.set_title('Número de Atribuições vs Tamanho do Array')\n",
    "    ax1.set_xlabel('Tamanho do Array (n)')\n",
    "    ax1.set_ylabel('Número de Atribuições')\n",
    "    ax1.grid(True)\n",
    "    \n",
    "    ax2.plot(tamanhos, resultados['tempos'], 'o-', color='red', label='Tempo')\n",
    "    ax2.set_title('Tempo de Execução vs Tamanho do Array')\n",
    "    ax2.set_xlabel('Tamanho do Array (n)')\n",
    "    ax2.set_ylabel('Tempo (segundos)')\n",
    "    ax2.grid(True)\n",
    "    \n",
    "    plt.tight_layout()\n",
    "    plt.show()\n",
    "\n",
    "def main():\n",
    "    tamanhos = np.arange(1, 501, 10)\n",
    "    num_testes = 5\n",
    "    \n",
    "    print(\"Iniciando testes empíricos...\")\n",
    "    resultados = executar_testes_empiricos(tamanhos, num_testes)\n",
    "    \n",
    "    print(\"Plotando resultados...\")\n",
    "    plotar_resultados(tamanhos, resultados)\n",
    "    \n",
    "    print(\"\\nEstatísticas finais:\")\n",
    "    print(f\"Maior número de atribuições: {max(max(resultados['atribuicoes']))}\")\n",
    "    print(f\"Maior tempo de execução: {max(max(resultados['tempos']))} segundos\")\n",
    "\n",
    "\n",
    "if __name__ == \"__main__\":\n",
    "    main()"
   ]
  }
 ],
 "metadata": {
  "kernelspec": {
   "display_name": "venv-apa01",
   "language": "python",
   "name": "python3"
  },
  "language_info": {
   "codemirror_mode": {
    "name": "ipython",
    "version": 3
   },
   "file_extension": ".py",
   "mimetype": "text/x-python",
   "name": "python",
   "nbconvert_exporter": "python",
   "pygments_lexer": "ipython3",
   "version": "3.12.3"
  }
 },
 "nbformat": 4,
 "nbformat_minor": 2
}

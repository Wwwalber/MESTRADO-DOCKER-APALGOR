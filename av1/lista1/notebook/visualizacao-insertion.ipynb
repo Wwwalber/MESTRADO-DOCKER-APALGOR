{
 "cells": [
  {
   "cell_type": "code",
   "execution_count": 2,
   "metadata": {},
   "outputs": [
    {
     "ename": "ModuleNotFoundError",
     "evalue": "No module named 'scripts'",
     "output_type": "error",
     "traceback": [
      "\u001b[0;31m---------------------------------------------------------------------------\u001b[0m",
      "\u001b[0;31mModuleNotFoundError\u001b[0m                       Traceback (most recent call last)",
      "Cell \u001b[0;32mIn[2], line 4\u001b[0m\n\u001b[1;32m      2\u001b[0m sys\u001b[38;5;241m.\u001b[39mpath\u001b[38;5;241m.\u001b[39mappend(\u001b[38;5;124m\"\u001b[39m\u001b[38;5;124m./av1/lista1/scripts/\u001b[39m\u001b[38;5;124m\"\u001b[39m)  \u001b[38;5;66;03m# Caminho relativo ao diretório 'scripts'\u001b[39;00m\n\u001b[1;32m      3\u001b[0m \u001b[38;5;66;03m# Importar funções dos arquivos Python\u001b[39;00m\n\u001b[0;32m----> 4\u001b[0m \u001b[38;5;28;01mfrom\u001b[39;00m \u001b[38;5;21;01mscripts\u001b[39;00m\u001b[38;5;21;01m.\u001b[39;00m\u001b[38;5;21;01minsertion\u001b[39;00m \u001b[38;5;28;01mimport\u001b[39;00m gerar_dados_insertion\n\u001b[1;32m      5\u001b[0m \u001b[38;5;28;01mfrom\u001b[39;00m \u001b[38;5;21;01mscripts\u001b[39;00m\u001b[38;5;21;01m.\u001b[39;00m\u001b[38;5;21;01minsertion\u001b[39;00m \u001b[38;5;28;01mimport\u001b[39;00m plotar_grafico_insertion_sort\n\u001b[1;32m      7\u001b[0m \u001b[38;5;66;03m# Gerar os dados\u001b[39;00m\n",
      "\u001b[0;31mModuleNotFoundError\u001b[0m: No module named 'scripts'"
     ]
    }
   ],
   "source": [
    "\n",
    "import sys\n",
    "sys.path.append(\"./av1/lista1/scripts/\")  # Caminho relativo ao diretório 'scripts'\n",
    "# Importar funções dos arquivos Python\n",
    "from scripts.insertion import gerar_dados_insertion\n",
    "from scripts.graficos import plotar_grafico_insertion_sort\n",
    "\n",
    "# Gerar os dados\n",
    "n, g = gerar_dados_insertion()\n",
    "# mostrar o gráfico\n",
    "plotar_grafico_insertion_sort(n, g)"
   ]
  }
 ],
 "metadata": {
  "kernelspec": {
   "display_name": ".venv-apa01",
   "language": "python",
   "name": "python3"
  },
  "language_info": {
   "codemirror_mode": {
    "name": "ipython",
    "version": 3
   },
   "file_extension": ".py",
   "mimetype": "text/x-python",
   "name": "python",
   "nbconvert_exporter": "python",
   "pygments_lexer": "ipython3",
   "version": "3.12.3"
  }
 },
 "nbformat": 4,
 "nbformat_minor": 2
}

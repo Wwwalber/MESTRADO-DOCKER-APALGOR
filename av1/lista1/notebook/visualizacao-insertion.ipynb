{
 "cells": [
  {
   "cell_type": "code",
   "execution_count": 34,
   "metadata": {},
   "outputs": [
    {
     "ename": "TypeError",
     "evalue": "cannot unpack non-iterable NoneType object",
     "output_type": "error",
     "traceback": [
      "\u001b[0;31m---------------------------------------------------------------------------\u001b[0m",
      "\u001b[0;31mTypeError\u001b[0m                                 Traceback (most recent call last)",
      "Cell \u001b[0;32mIn[34], line 8\u001b[0m\n\u001b[1;32m      5\u001b[0m \u001b[38;5;28;01mfrom\u001b[39;00m \u001b[38;5;21;01mgraficos\u001b[39;00m \u001b[38;5;28;01mimport\u001b[39;00m plotar_grafico_insertion_sort\n\u001b[1;32m      7\u001b[0m \u001b[38;5;66;03m# Gerar os dados\u001b[39;00m\n\u001b[0;32m----> 8\u001b[0m n, resultados_empiricos \u001b[38;5;241m=\u001b[39m gerar_dados_insertion()\n\u001b[1;32m      9\u001b[0m \u001b[38;5;66;03m#g = 0\u001b[39;00m\n\u001b[1;32m     10\u001b[0m \u001b[38;5;66;03m# mostrar o gráfico\u001b[39;00m\n\u001b[1;32m     11\u001b[0m plotar_grafico_insertion_sort(n, resultados_empiricos)\n",
      "\u001b[0;31mTypeError\u001b[0m: cannot unpack non-iterable NoneType object"
     ]
    }
   ],
   "source": [
    "import sys\n",
    "sys.path.append(\"./av1/lista1/scripts/\")  # Caminho relativo ao diretório 'scripts'\n",
    "# Importar funções dos arquivos Python\n",
    "from insertion import gerar_dados_insertion\n",
    "from graficos import plotar_grafico_insertion_sort\n",
    "\n",
    "# Gerar os dados\n",
    "n, resultados_empiricos = gerar_dados_insertion()\n",
    "#g = 0\n",
    "# mostrar o gráfico\n",
    "plotar_grafico_insertion_sort(n, resultados_empiricos)\n"
   ]
  }
 ],
 "metadata": {
  "kernelspec": {
   "display_name": ".venv-apa01",
   "language": "python",
   "name": "python3"
  },
  "language_info": {
   "codemirror_mode": {
    "name": "ipython",
    "version": 3
   },
   "file_extension": ".py",
   "mimetype": "text/x-python",
   "name": "python",
   "nbconvert_exporter": "python",
   "pygments_lexer": "ipython3",
   "version": "3.12.3"
  }
 },
 "nbformat": 4,
 "nbformat_minor": 2
}

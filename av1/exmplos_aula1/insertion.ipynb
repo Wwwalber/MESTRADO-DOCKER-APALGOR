import numpy as np
import matplotlib.pyplot as plt
import time

def insertion_sort(arr):
    for i in range(1, len(arr)):
        key = arr[i]
        j = i - 1
        
        while j >= 0 and arr[j] > key:
            arr[j + 1] = arr[j]
            j -= 1
        arr[j + 1] = key
    return arr

# Função para medir o tempo de execução do Insertion Sort
def measure_time(arr):
    start_time = time.time()
    insertion_sort(arr)
    end_time = time.time()
    return end_time - start_time

# Gerar arrays de diferentes tamanhos
sizes = [100, 200, 300, 400, 500, 600, 700, 800, 900, 1000]
times = []

for size in sizes:
    # Cria um array aleatório de tamanho 'size'
    arr = np.random.randint(0, 1000, size)
    exec_time = measure_time(arr)
    times.append(exec_time)

# Plotar os resultados
plt.figure(figsize=(10, 6))
plt.plot(sizes, times, marker='o')
plt.title('Tempo de Execução do Insertion Sort')
plt.xlabel('Tamanho do Array')
plt.ylabel('Tempo de Execução (segundos)')
plt.grid()
plt.show()

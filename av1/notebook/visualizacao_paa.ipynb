{
 "cells": [
  {
   "cell_type": "code",
   "execution_count": 2,
   "metadata": {},
   "outputs": [
    {
     "ename": "NameError",
     "evalue": "name 'random' is not defined",
     "output_type": "error",
     "traceback": [
      "\u001b[0;31m---------------------------------------------------------------------------\u001b[0m",
      "\u001b[0;31mNameError\u001b[0m                                 Traceback (most recent call last)",
      "Cell \u001b[0;32mIn[2], line 11\u001b[0m\n\u001b[1;32m      9\u001b[0m \u001b[38;5;66;03m# Gerar os dados\u001b[39;00m\n\u001b[1;32m     10\u001b[0m x, y \u001b[38;5;241m=\u001b[39m gerar_dados()\n\u001b[0;32m---> 11\u001b[0m n, g \u001b[38;5;241m=\u001b[39m \u001b[43mgerar_dados_insertion\u001b[49m\u001b[43m(\u001b[49m\u001b[43m)\u001b[49m\n\u001b[1;32m     13\u001b[0m \u001b[38;5;66;03m# Mostrar o gráfico\u001b[39;00m\n\u001b[1;32m     14\u001b[0m plotar_grafico(x, y)\n",
      "File \u001b[0;32m~/Projetos/2024/MESTRADO-DOCKER-APALGOR/av1/notebook/../scripts2/analise2.py:30\u001b[0m, in \u001b[0;36mgerar_dados_insertion\u001b[0;34m()\u001b[0m\n\u001b[1;32m     28\u001b[0m g \u001b[38;5;241m=\u001b[39m []\n\u001b[1;32m     29\u001b[0m \u001b[38;5;28;01mfor\u001b[39;00m tamanho \u001b[38;5;129;01min\u001b[39;00m n:\n\u001b[0;32m---> 30\u001b[0m     lista_numeros \u001b[38;5;241m=\u001b[39m [\u001b[43mrandom\u001b[49m\u001b[38;5;241m.\u001b[39mrandint(\u001b[38;5;241m1\u001b[39m, \u001b[38;5;241m1000\u001b[39m) \u001b[38;5;28;01mfor\u001b[39;00m _ \u001b[38;5;129;01min\u001b[39;00m \u001b[38;5;28mrange\u001b[39m(tamanho)]\n\u001b[1;32m     31\u001b[0m     num_atribuicoes \u001b[38;5;241m=\u001b[39m gerar_insertion_sort(lista_numeros) \n\u001b[1;32m     32\u001b[0m     g\u001b[38;5;241m.\u001b[39mappend(num_atribuicoes)\n",
      "\u001b[0;31mNameError\u001b[0m: name 'random' is not defined"
     ]
    }
   ],
   "source": [
    "import sys\n",
    "sys.path.append(\"../\")  # Adiciona o diretório raiz do projeto ao PATH\n",
    "\n",
    "# Importar funções dos arquivos Python\n",
    "from scripts2.analise2 import gerar_dados\n",
    "#from scripts2.analise2 import gerar_dados_insertion\n",
    "from scripts2.graficos2 import plotar_grafico\n",
    "\n",
    "# Gerar os dados\n",
    "x, y = gerar_dados()\n",
    "#n, g = gerar_dados_insertion()\n",
    "\n",
    "# Mostrar o gráfico\n",
    "plotar_grafico(x, y)\n",
    "plotar_grafico(x, y)"
   ]
  }
 ],
 "metadata": {
  "kernelspec": {
   "display_name": ".venv-apa01",
   "language": "python",
   "name": "python3"
  },
  "language_info": {
   "codemirror_mode": {
    "name": "ipython",
    "version": 3
   },
   "file_extension": ".py",
   "mimetype": "text/x-python",
   "name": "python",
   "nbconvert_exporter": "python",
   "pygments_lexer": "ipython3",
   "version": "3.12.3"
  }
 },
 "nbformat": 4,
 "nbformat_minor": 2
}

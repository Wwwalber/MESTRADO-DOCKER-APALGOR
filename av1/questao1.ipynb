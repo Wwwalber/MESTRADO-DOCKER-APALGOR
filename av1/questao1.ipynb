import numpy as np
import matplotlib.pyplot as plt

# criar um array de valores para n
n.linspace(0, 10, 100) # cria 100 pontos entre 0 e 10


# calcular os valores das funções 
# f(n) = n2+2n, g(n) = n2 e h(n) = 2n+1?
f = n**2 + 2*n      # f(n) = n² + 2n
g = n**2            # g(n) = n2
h = 2*n+1           # h(n) = 2n+1

# criar o gráfico
plt.figure(figsize=(10, 6))  # Define o tamanho da figura

# plotar cada função
plt.plot(n, f, 'r-', lable='f(n) = n² + 2n')
plt.plot(n, g, 'b-', lable='g(n) = n2')
plt.plot(n, h, 'g-', lable='h(n) = 2n+1')

# Adicionar elementos ao gráfico
plt.title('Comparação das funcções')
plt.xlabel('n')
plt.ylabel('f(n), g(n), h(n)')
plt.grid(True)
plt.legend()

# mostrar o gráfico
plt.show
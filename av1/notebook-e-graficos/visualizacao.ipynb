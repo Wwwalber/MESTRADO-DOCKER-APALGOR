{
 "cells": [
  {
   "cell_type": "code",
   "execution_count": null,
   "metadata": {},
   "outputs": [],
   "source": [
    "import sys\n",
    "sys.path.append(\"../\")  # Adiciona o diretório raiz do projeto ao PATH\n",
    "\n",
    "# Importar funções dos arquivos Python\n",
    "from scripts2.analise2 import gerar_dados\n",
    "from scripts2.graficos2 import plotar_grafico\n",
    "from scripts2.graficos2 import plotar_grafico_insertion_sort\n",
    "from scripts2.analise2 import gerar_dados_insertion\n",
    "\n",
    "# Gerar os dados\n",
    "x, y = gerar_dados()\n",
    "n, g = gerar_dados_insertion()\n",
    "\n",
    "# Mostrar o gráfico\n",
    "plotar_grafico(x, y)\n",
    "plotar_grafico_insertion_sort(n, g)\n"
   ]
  }
 ],
 "metadata": {
  "kernelspec": {
   "display_name": "venv-apa02",
   "language": "python",
   "name": "python3"
  },
  "language_info": {
   "codemirror_mode": {
    "name": "ipython",
    "version": 3
   },
   "file_extension": ".py",
   "mimetype": "text/x-python",
   "name": "python",
   "nbconvert_exporter": "python",
   "pygments_lexer": "ipython3",
   "version": "3.12.3"
  }
 },
 "nbformat": 4,
 "nbformat_minor": 2
}

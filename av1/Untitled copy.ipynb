{
 "cells": [
  {
   "cell_type": "code",
   "execution_count": null,
   "id": "a353f144-877b-4d85-86e4-c8072b12c63b",
   "metadata": {},
   "outputs": [],
   "source": [
    "import numpy as np\n",
    "import matplotlib as plt\n",
    "\n",
    "# cria um array de valores para n \n",
    "n = np.linspace(0, 10, 100) # cria 100 ponto entre 0 e 10\n",
    "# calcula o valor de f(n) para cada ponto\n",
    "#  f(n) = n2+2n, g(n) = n2 e h(n) = 2n+1?\n",
    "f = n** + 2*n\n",
    "g = n**2\n",
    "h = 2*n + 1\n",
    "\n",
    "# cria o gráfico\n",
    "plt.figure(figsize(10, 6)) # define o tamanho da figura\n",
    "\n",
    "# plotar a função\n",
    "plt.plot(n, f, label='f(n) = n2+2n')\n",
    "plt.plot(n, g, label='g(n) = n2')\n",
    "plt.plot(n, h, label='h(n) = 2n+1')\n",
    "\n",
    "# adiciona elementos no gráfico\n",
    "plt.title('Gráfico de f(n), g(n) e h(n) - para fins de comparação')\n",
    "plt.xlabel('n')\n",
    "\n",
    "# mostrar p gráfico\n",
    "plt.show()\n"
   ]
  }
 ],
 "metadata": {
  "kernelspec": {
   "display_name": "Python 3 (ipykernel)",
   "language": "python",
   "name": "python3"
  },
  "language_info": {
   "codemirror_mode": {
    "name": "ipython",
    "version": 3
   },
   "file_extension": ".py",
   "mimetype": "text/x-python",
   "name": "python",
   "nbconvert_exporter": "python",
   "pygments_lexer": "ipython3",
   "version": "3.13.0"
  }
 },
 "nbformat": 4,
 "nbformat_minor": 5
}

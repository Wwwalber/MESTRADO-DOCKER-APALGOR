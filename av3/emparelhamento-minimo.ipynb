{
 "cells": [
  {
   "cell_type": "code",
   "execution_count": 1,
   "metadata": {},
   "outputs": [
    {
     "name": "stdout",
     "output_type": "stream",
     "text": [
      "Melhor emparelhamento: [('B', 'C'), ('D', 'E')]\n",
      "Custo total: 13\n"
     ]
    }
   ],
   "source": [
    "def calculate_all_pairs_shortest_paths(graph):\n",
    "    \"\"\"Calcula o caminho mais curto entre todos os pares de vértices\"\"\"\n",
    "    distances = {}\n",
    "    for u in graph:\n",
    "        for v in graph:\n",
    "            if u != v:\n",
    "                # Se há aresta direta, use seu peso\n",
    "                if (u, v) in graph.edges:\n",
    "                    distances[(u,v)] = graph.edges[(u,v)]\n",
    "                else:\n",
    "                    # Caso contrário, encontre o caminho mais curto\n",
    "                    path = graph.find_shortest_path(u, v)\n",
    "                    if path:\n",
    "                        dist = 0\n",
    "                        for i in range(len(path)-1):\n",
    "                            dist += graph.edges[(path[i], path[i+1])]\n",
    "                        distances[(u,v)] = dist\n",
    "    return distances\n",
    "\n",
    "def find_minimum_weight_perfect_matching(odd_vertices, distances):\n",
    "    \"\"\"\n",
    "    Encontra o emparelhamento perfeito de peso mínimo para os vértices de grau ímpar\n",
    "    Versão simplificada para 4 vértices\n",
    "    \"\"\"\n",
    "    best_cost = float('infinity')\n",
    "    best_matching = None\n",
    "    \n",
    "    # Para 4 vértices, testamos todas as combinações possíveis\n",
    "    for i in range(len(odd_vertices)):\n",
    "        for j in range(i+1, len(odd_vertices)):\n",
    "            # Primeiro par: vertices[i] e vertices[j]\n",
    "            remaining = [v for v in odd_vertices if v != odd_vertices[i] and v != odd_vertices[j]]\n",
    "            # Segundo par: os dois vértices restantes\n",
    "            cost = distances[(odd_vertices[i], odd_vertices[j])] + distances[(remaining[0], remaining[1])]\n",
    "            \n",
    "            if cost < best_cost:\n",
    "                best_cost = cost\n",
    "                best_matching = [(odd_vertices[i], odd_vertices[j]), (remaining[0], remaining[1])]\n",
    "    \n",
    "    return best_matching, best_cost\n",
    "\n",
    "# Uso:\n",
    "odd_vertices = ['B', 'C', 'D', 'E']\n",
    "distances = {\n",
    "    ('B','C'): 8, ('B','D'): 4, ('B','E'): 6,\n",
    "    ('C','D'): 7, ('C','E'): 12, ('D','E'): 5\n",
    "}\n",
    "\n",
    "matching, cost = find_minimum_weight_perfect_matching(odd_vertices, distances)\n",
    "print(f\"Melhor emparelhamento: {matching}\")\n",
    "print(f\"Custo total: {cost}\")"
   ]
  }
 ],
 "metadata": {
  "kernelspec": {
   "display_name": "venv-apa03",
   "language": "python",
   "name": "python3"
  },
  "language_info": {
   "codemirror_mode": {
    "name": "ipython",
    "version": 3
   },
   "file_extension": ".py",
   "mimetype": "text/x-python",
   "name": "python",
   "nbconvert_exporter": "python",
   "pygments_lexer": "ipython3",
   "version": "3.12.3"
  }
 },
 "nbformat": 4,
 "nbformat_minor": 2
}
